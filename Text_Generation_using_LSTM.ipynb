{
  "nbformat": 4,
  "nbformat_minor": 0,
  "metadata": {
    "colab": {
      "provenance": [],
      "gpuType": "T4"
    },
    "kernelspec": {
      "name": "python3",
      "display_name": "Python 3"
    },
    "language_info": {
      "name": "python"
    },
    "accelerator": "GPU"
  },
  "cells": [
    {
      "cell_type": "markdown",
      "source": [
        "**IMPORTING LIBRARIES**\n"
      ],
      "metadata": {
        "id": "QwDdko7Du54X"
      }
    },
    {
      "cell_type": "code",
      "source": [
        "import numpy as np\n",
        "import pandas as pd\n",
        "import os,re\n",
        "from nltk.corpus import stopwords\n",
        "from tensorflow.keras.preprocessing.text import Tokenizer\n",
        "from tensorflow.keras.preprocessing.sequence  import pad_sequences\n",
        "from tensorflow.keras.utils import to_categorical\n",
        "from tensorflow.keras.layers import LSTM,Dropout,Dense,Embedding\n",
        "from tensorflow.keras.models import Sequential\n",
        "\n"
      ],
      "metadata": {
        "id": "AJ6-8XQ5E6Jo"
      },
      "execution_count": null,
      "outputs": []
    },
    {
      "cell_type": "markdown",
      "source": [
        "**LOAD TEXT**"
      ],
      "metadata": {
        "id": "YlxJk62vu4bZ"
      }
    },
    {
      "cell_type": "code",
      "source": [
        "# Define the file path where the text file is located\n",
        "file_path = \"/content/education.txt\"  # Provide the path to your text file\n",
        "\n",
        "# Initialize an empty list to store the content of the text file\n",
        "all_text = []\n",
        "\n",
        "# Open the file in read mode using a context manager to ensure proper handling of file resources\n",
        "with open(file_path, \"r\") as file:\n",
        "    # Read the entire content of the file and store it in the variable 'text'\n",
        "    text = file.read()\n",
        "    # Append the content of the file to the 'all_text' list\n",
        "    all_text.append(text)\n",
        "\n",
        "# Print the contents of the 'all_text' list, which contains the content of the file\n",
        "print(all_text)"
      ],
      "metadata": {
        "colab": {
          "base_uri": "https://localhost:8080/"
        },
        "id": "WRW1FgS9MphR",
        "outputId": "ca74f251-3545-4750-d725-6954edea2d97"
      },
      "execution_count": null,
      "outputs": [
        {
          "output_type": "stream",
          "name": "stdout",
          "text": [
            "[\"Education is an invaluable asset that can create many opportunities for individuals in our society. It is the cornerstone of success in personal, professional, and academic lives. Education is important because it helps us to develop necessary skills and knowledge, which enables us to think critically, make informed decisions, and maximise our potential.The importance of education is undeniable, and its numerous benefits are undeniable. Education helps to provide the essential knowledge, skills, and values that are necessary for success in life. Education also helps to prepare individuals to assume positions of responsibility, as well as to think critically and develop problem-solving skills.Education creates a sense of social responsibility. It teaches people how to respect one another, as well as how to be productive members of society. Learning about history and culture can help people to better understand and appreciate the differences among different cultures, and it can also inspire individuals to use their knowledge to make the world a better place. Education also fosters social mobility, as those who have access to quality education can more easily pursue higher-level positions and career paths.\\nEducation can also help to combat inequality. By providing access to knowledge and resources, education can help to bridge the gap between those who have and those who do not have access to these things. This can lead to a more equitable distribution of resources and opportunities, as well as a decrease in poverty.\\nThe benefits of education are wide-ranging and varied. It is essential for preparing individuals to enter the labour force, as it provides the necessary skills and knowledge that employers look for when hiring. Education also helps to create a more informed and engaged society, by teaching citizens how to think, problem solve, and make better decisions. In addition, students who attend school are more likely to have higher incomes and become financially secure.Education plays an important role in expanding our view of the world and increasing cultural awareness and understanding. Education helps us to gain a better understanding of different cultures and beliefs, and it can eliminate prejudices and promote mutual respect. Moreover, education has been proven to increase the economic stability of individuals and families. Individuals who are educated tend to earn higher wages, have better job security, and are more likely to own a home. Education also tends to reduce poverty, as well as improve the overall quality of life for individuals and families.Education is one of the most important aspects of any person's life. It is a key to unlocking the door to success and providing a more fulfilling life. With education, a person can become more informed, gain knowledge, and increase their skills. The advantages of education are many, and its importance cannot be overstated.\\n\\nEducation helps us to develop the skills, knowledge, and values that are necessary for success in life, and it can help to increase economic stability, reduce poverty, and promote cultural understanding. Education is a lifetime investment that provides individuals with the knowledge and skills they need to lead successful lives.\\n\\nEducation is important for the development of a person’s knowledge and skills. It allows them to gain an understanding of the world around them, analyse and interpret data, and find creative solutions to complex problems. By having an education, a person is better prepared to make informed decisions and become a successful individual.\\n\\nEducation is also important for career and employment opportunities. Having an education gives a person the opportunity to pursue a career they are passionate about and to be more competitive in the job market. It also provides them with more job security and higher salaries.\\n\\nFinally, education is important for personal growth and development. With an education, a person can learn about different cultures, explore different fields of knowledge, and develop a better understanding of the world. Education can also help a person build relationships, gain life experiences, and develop a positive attitude towards life.How Education Benefits The Society | Education is one of the most important aspects of life, and it plays an increasingly vital role in our society today. It is important for a variety of reasons, including contributing to the development of communities, preparing individuals for the workforce, and providing access to knowledge and resources. Education can benefit our society in many ways, and it is essential to understanding how the world works. With a good education, individuals can be better equipped to enter the labour force, create a more informed and engaged society, and combat inequality.\\n\\nEducation is one of the most important aspects of a person’s life. It provides them with knowledge and skills that can be used to become successful and to pursue a career that they are passionate about. It also provides them with personal growth and development, job security, and higher salaries. Education is an asset that stays with you for your entire life and helps you deal with any challenge that life throws at you.\\nEducation is one of the key components for an individual’s success. It has the ability to shape one’s life in the right direction. Education is a process of imparting or acquiring knowledge, and developing the powers of reasoning and judgement. It prepares growing children intellectually for a life with more mature understanding and sensitivity to issues surrounding them. It improves not only the personal life of the people but also their community. Thus, one cannot neglect the significance of Education in life and society. Here, we have provided an essay on the Importance of Education. Students can use this essay to prepare for their English exam or as a speech to participate in the school competition.\\nThe importance of education in life is immense. It facilitates quality learning for people throughout their life. It inculcates knowledge, belief, skill, values and moral habits. It improves the way of living and raises the social and economic status of individuals. Education makes life better and more peaceful. It transforms the personality of individuals and makes them feel confident.\\n\\nWell said by Nelson Mandela, “Education is the most powerful weapon to change the world”. To elaborate, it is the foundation of the society which brings economic wealth, social prosperity and political stability. It gives power to people to put their views and showcase their real potential. It strengthens democracy by providing citizens with the tools to participate in the governance process. It acts as an integrative force to foster social cohesion and national identity.\\n\\nIn India, education is a constitutional right of every citizen. So, people of any age group, religion, caste, creed and region are free to receive education. An educated person is respected everywhere and well-treated in society. As a kid, every child dreams of being a doctor, lawyer, engineer, actor, sportsperson, etc. These dreams can come true through education. So, investment in education gives the best return. Well-educated people have more opportunities to get a better job which makes them feel satisfied.\\n\\nIn schools, education is divided into different levels, i.e., preschool, primary, secondary and senior secondary. School education comprises traditional learning which provides students with theoretical knowledge. However, now various efforts are being made to establish inbuilt application-based learning by adding numerous experiments, practicals and extracurricular activities to the school curriculum. Students learn to read, write and represent their viewpoints in front of others. Also, in this era of digital Education, anyone can easily access information online at their fingertips. They can learn new skills and enhance their knowledge.\\nEducation is evidently an important aspect that no government can ignore in order to ensure the equitable development of a nation. Unfortunately, some children still do not have access to education. The Government has thereby taken initiatives to improve education quality and made it accessible to everyone, especially the poor people.\\n\\nThe Government passed the Right to Education Act 2009 (RTE Act 2009) on 4 August 2009. This Act came into effect on 1 April 2010, following which education has become the fundamental right of every child in India. It provides free and compulsory elementary education to children of the age group of 6-14 years in a neighbourhood school within 1 km, up to Class 8 in India. On similar lines, there are other schemes launched by the government, such as Sarva Shiksha Abhiyan, Mid-Day Meal, Adult Education and Skill Development Scheme, National Means cum Merit Scholarship Scheme, National Program for Education of Girls at Elementary Education, Kasturba Gandhi Balika Vidyalaya, Scheme for Infrastructure Development in Minority Institutions, Beti Bachao, Beti Padhao, etc.\\n\\nFor our country’s growth, we require a well-educated population equipped with the relevant knowledge, attitude and skills. This can be achieved by spreading awareness about the importance of Education in rural areas. There is a famous saying that “If we feed one person, we will eliminate his hunger for only one time. But, if we educate a person, we will change his entire life”. Henceforth he will become capable of earning a livelihood by himself.\\n\\nThis essay on the Importance of Education must have helped students to improve their writing section for the English exam. They can also practice essays on other topics by visiting the CBSE Essay page. Keep learning and stay tuned with BYJU’S for the latest updates on CBSE/ICSE/State Board/Competitive Exams. Also, download the BYJU’S App for interactive study videos.\\nEducation helps us to get what we want to achieve in life. The social skills that we gained from education help us to build healthy relationships in life and the learning skills that we gained in life help us to get a good and desired job. We can relate the number of money people will earn with the level of education they have received. A very less educated person remains unemployed and has better options to fulfill the needs of their family. They can easily afford the basic necessities of life and at times they also can lead a luxurious life.\\n\\nA good education teaches you to develop good communication skills and to work efficiently both as a team and as an independent person. Both these skills are the foundation to get a good job\\nEducation empowers individuals, fostering critical thinking, creativity, and innovation. It promotes social mobility, reduces poverty, and fosters social cohesion. Through education, individuals develop the ability to make informed decisions, overcome challenges, and fulfill their potential.\\n\\nFurthermore, education is a catalyst for positive change. It encourages individuals to question the status quo, explore new ideas, and contribute to the betterment of society. By investing in education, we invest in the future, equipping individuals with the necessary skills to address global challenges, drive innovation, and build a more inclusive and sustainable world.\\n\\nEducation is a fundamental right that should be accessible to all, regardless of gender, socioeconomic background, or geographical location. It is through education that we can create a more equitable, prosperous, and harmonious society.\\nEducation is the cornerstone of personal and societal development. It equips individuals with the knowledge, skills, and tools necessary to navigate the complexities of life and contribute meaningfully to society. In its broadest sense, education encompasses formal schooling, informal learning, and lifelong learning.\\n\\nFormal education, provided through schools and institutions, lays the foundation for intellectual, social, and emotional growth. It imparts essential knowledge, promotes critical thinking, and develops skills that are essential for success in various fields.\\n\\nHowever, education goes beyond the classroom. Informal learning occurs through everyday experiences, interactions, and self-directed exploration. It allows individuals to acquire practical skills, adaptability, and a broader understanding of the world.\\n\\nLifelong learning is a continuous process that extends beyond formal education. It involves the pursuit of knowledge and personal growth throughout one’s life, enabling individuals to adapt to changing circumstances, embrace new opportunities, and contribute to a dynamic society.\\n\\nEducation empowers individuals, enabling them to overcome challenges, make informed decisions, and fulfill their potential. It plays a vital role in promoting social mobility, reducing poverty, and fostering social cohesion.\\n\\nMoreover, education fosters critical thinking, creativity, and innovation, which are essential for progress and development. It encourages individuals to question the status quo, explore new ideas, and contribute to positive change.\\n\\nIn conclusion, education is an indispensable tool for personal growth and societal progress. It encompasses formal, informal, and lifelong learning, providing individuals with the knowledge, skills, and mindset necessary to navigate the complexities of life. By investing in education, we invest in the future, empowering individuals and communities to create a better world.\\n\\n\"]\n"
          ]
        }
      ]
    },
    {
      "cell_type": "code",
      "source": [
        "# retrieves the first four elements of the all_text list\n",
        "all_text[:4]"
      ],
      "metadata": {
        "colab": {
          "base_uri": "https://localhost:8080/"
        },
        "id": "Xn-q9jvIMuuJ",
        "outputId": "8b0a552f-d009-42dd-cde9-4fe81725995e"
      },
      "execution_count": null,
      "outputs": [
        {
          "output_type": "execute_result",
          "data": {
            "text/plain": [
              "[\"Education is an invaluable asset that can create many opportunities for individuals in our society. It is the cornerstone of success in personal, professional, and academic lives. Education is important because it helps us to develop necessary skills and knowledge, which enables us to think critically, make informed decisions, and maximise our potential.The importance of education is undeniable, and its numerous benefits are undeniable. Education helps to provide the essential knowledge, skills, and values that are necessary for success in life. Education also helps to prepare individuals to assume positions of responsibility, as well as to think critically and develop problem-solving skills.Education creates a sense of social responsibility. It teaches people how to respect one another, as well as how to be productive members of society. Learning about history and culture can help people to better understand and appreciate the differences among different cultures, and it can also inspire individuals to use their knowledge to make the world a better place. Education also fosters social mobility, as those who have access to quality education can more easily pursue higher-level positions and career paths.\\nEducation can also help to combat inequality. By providing access to knowledge and resources, education can help to bridge the gap between those who have and those who do not have access to these things. This can lead to a more equitable distribution of resources and opportunities, as well as a decrease in poverty.\\nThe benefits of education are wide-ranging and varied. It is essential for preparing individuals to enter the labour force, as it provides the necessary skills and knowledge that employers look for when hiring. Education also helps to create a more informed and engaged society, by teaching citizens how to think, problem solve, and make better decisions. In addition, students who attend school are more likely to have higher incomes and become financially secure.Education plays an important role in expanding our view of the world and increasing cultural awareness and understanding. Education helps us to gain a better understanding of different cultures and beliefs, and it can eliminate prejudices and promote mutual respect. Moreover, education has been proven to increase the economic stability of individuals and families. Individuals who are educated tend to earn higher wages, have better job security, and are more likely to own a home. Education also tends to reduce poverty, as well as improve the overall quality of life for individuals and families.Education is one of the most important aspects of any person's life. It is a key to unlocking the door to success and providing a more fulfilling life. With education, a person can become more informed, gain knowledge, and increase their skills. The advantages of education are many, and its importance cannot be overstated.\\n\\nEducation helps us to develop the skills, knowledge, and values that are necessary for success in life, and it can help to increase economic stability, reduce poverty, and promote cultural understanding. Education is a lifetime investment that provides individuals with the knowledge and skills they need to lead successful lives.\\n\\nEducation is important for the development of a person’s knowledge and skills. It allows them to gain an understanding of the world around them, analyse and interpret data, and find creative solutions to complex problems. By having an education, a person is better prepared to make informed decisions and become a successful individual.\\n\\nEducation is also important for career and employment opportunities. Having an education gives a person the opportunity to pursue a career they are passionate about and to be more competitive in the job market. It also provides them with more job security and higher salaries.\\n\\nFinally, education is important for personal growth and development. With an education, a person can learn about different cultures, explore different fields of knowledge, and develop a better understanding of the world. Education can also help a person build relationships, gain life experiences, and develop a positive attitude towards life.How Education Benefits The Society | Education is one of the most important aspects of life, and it plays an increasingly vital role in our society today. It is important for a variety of reasons, including contributing to the development of communities, preparing individuals for the workforce, and providing access to knowledge and resources. Education can benefit our society in many ways, and it is essential to understanding how the world works. With a good education, individuals can be better equipped to enter the labour force, create a more informed and engaged society, and combat inequality.\\n\\nEducation is one of the most important aspects of a person’s life. It provides them with knowledge and skills that can be used to become successful and to pursue a career that they are passionate about. It also provides them with personal growth and development, job security, and higher salaries. Education is an asset that stays with you for your entire life and helps you deal with any challenge that life throws at you.\\nEducation is one of the key components for an individual’s success. It has the ability to shape one’s life in the right direction. Education is a process of imparting or acquiring knowledge, and developing the powers of reasoning and judgement. It prepares growing children intellectually for a life with more mature understanding and sensitivity to issues surrounding them. It improves not only the personal life of the people but also their community. Thus, one cannot neglect the significance of Education in life and society. Here, we have provided an essay on the Importance of Education. Students can use this essay to prepare for their English exam or as a speech to participate in the school competition.\\nThe importance of education in life is immense. It facilitates quality learning for people throughout their life. It inculcates knowledge, belief, skill, values and moral habits. It improves the way of living and raises the social and economic status of individuals. Education makes life better and more peaceful. It transforms the personality of individuals and makes them feel confident.\\n\\nWell said by Nelson Mandela, “Education is the most powerful weapon to change the world”. To elaborate, it is the foundation of the society which brings economic wealth, social prosperity and political stability. It gives power to people to put their views and showcase their real potential. It strengthens democracy by providing citizens with the tools to participate in the governance process. It acts as an integrative force to foster social cohesion and national identity.\\n\\nIn India, education is a constitutional right of every citizen. So, people of any age group, religion, caste, creed and region are free to receive education. An educated person is respected everywhere and well-treated in society. As a kid, every child dreams of being a doctor, lawyer, engineer, actor, sportsperson, etc. These dreams can come true through education. So, investment in education gives the best return. Well-educated people have more opportunities to get a better job which makes them feel satisfied.\\n\\nIn schools, education is divided into different levels, i.e., preschool, primary, secondary and senior secondary. School education comprises traditional learning which provides students with theoretical knowledge. However, now various efforts are being made to establish inbuilt application-based learning by adding numerous experiments, practicals and extracurricular activities to the school curriculum. Students learn to read, write and represent their viewpoints in front of others. Also, in this era of digital Education, anyone can easily access information online at their fingertips. They can learn new skills and enhance their knowledge.\\nEducation is evidently an important aspect that no government can ignore in order to ensure the equitable development of a nation. Unfortunately, some children still do not have access to education. The Government has thereby taken initiatives to improve education quality and made it accessible to everyone, especially the poor people.\\n\\nThe Government passed the Right to Education Act 2009 (RTE Act 2009) on 4 August 2009. This Act came into effect on 1 April 2010, following which education has become the fundamental right of every child in India. It provides free and compulsory elementary education to children of the age group of 6-14 years in a neighbourhood school within 1 km, up to Class 8 in India. On similar lines, there are other schemes launched by the government, such as Sarva Shiksha Abhiyan, Mid-Day Meal, Adult Education and Skill Development Scheme, National Means cum Merit Scholarship Scheme, National Program for Education of Girls at Elementary Education, Kasturba Gandhi Balika Vidyalaya, Scheme for Infrastructure Development in Minority Institutions, Beti Bachao, Beti Padhao, etc.\\n\\nFor our country’s growth, we require a well-educated population equipped with the relevant knowledge, attitude and skills. This can be achieved by spreading awareness about the importance of Education in rural areas. There is a famous saying that “If we feed one person, we will eliminate his hunger for only one time. But, if we educate a person, we will change his entire life”. Henceforth he will become capable of earning a livelihood by himself.\\n\\nThis essay on the Importance of Education must have helped students to improve their writing section for the English exam. They can also practice essays on other topics by visiting the CBSE Essay page. Keep learning and stay tuned with BYJU’S for the latest updates on CBSE/ICSE/State Board/Competitive Exams. Also, download the BYJU’S App for interactive study videos.\\nEducation helps us to get what we want to achieve in life. The social skills that we gained from education help us to build healthy relationships in life and the learning skills that we gained in life help us to get a good and desired job. We can relate the number of money people will earn with the level of education they have received. A very less educated person remains unemployed and has better options to fulfill the needs of their family. They can easily afford the basic necessities of life and at times they also can lead a luxurious life.\\n\\nA good education teaches you to develop good communication skills and to work efficiently both as a team and as an independent person. Both these skills are the foundation to get a good job\\nEducation empowers individuals, fostering critical thinking, creativity, and innovation. It promotes social mobility, reduces poverty, and fosters social cohesion. Through education, individuals develop the ability to make informed decisions, overcome challenges, and fulfill their potential.\\n\\nFurthermore, education is a catalyst for positive change. It encourages individuals to question the status quo, explore new ideas, and contribute to the betterment of society. By investing in education, we invest in the future, equipping individuals with the necessary skills to address global challenges, drive innovation, and build a more inclusive and sustainable world.\\n\\nEducation is a fundamental right that should be accessible to all, regardless of gender, socioeconomic background, or geographical location. It is through education that we can create a more equitable, prosperous, and harmonious society.\\nEducation is the cornerstone of personal and societal development. It equips individuals with the knowledge, skills, and tools necessary to navigate the complexities of life and contribute meaningfully to society. In its broadest sense, education encompasses formal schooling, informal learning, and lifelong learning.\\n\\nFormal education, provided through schools and institutions, lays the foundation for intellectual, social, and emotional growth. It imparts essential knowledge, promotes critical thinking, and develops skills that are essential for success in various fields.\\n\\nHowever, education goes beyond the classroom. Informal learning occurs through everyday experiences, interactions, and self-directed exploration. It allows individuals to acquire practical skills, adaptability, and a broader understanding of the world.\\n\\nLifelong learning is a continuous process that extends beyond formal education. It involves the pursuit of knowledge and personal growth throughout one’s life, enabling individuals to adapt to changing circumstances, embrace new opportunities, and contribute to a dynamic society.\\n\\nEducation empowers individuals, enabling them to overcome challenges, make informed decisions, and fulfill their potential. It plays a vital role in promoting social mobility, reducing poverty, and fostering social cohesion.\\n\\nMoreover, education fosters critical thinking, creativity, and innovation, which are essential for progress and development. It encourages individuals to question the status quo, explore new ideas, and contribute to positive change.\\n\\nIn conclusion, education is an indispensable tool for personal growth and societal progress. It encompasses formal, informal, and lifelong learning, providing individuals with the knowledge, skills, and mindset necessary to navigate the complexities of life. By investing in education, we invest in the future, empowering individuals and communities to create a better world.\\n\\n\"]"
            ]
          },
          "metadata": {},
          "execution_count": 3
        }
      ]
    },
    {
      "cell_type": "code",
      "source": [
        "# Print the length of the original 'all_text' list\n",
        "print(\"all Text length : \", len(all_text))\n",
        "\n",
        "# Filter out elements with the value \"Unknown\" from the 'all_text' list\n",
        "all_text = [x for x in all_text if x != \"Unknown\"]\n",
        "\n",
        "# Print the length of the 'all_text' list after filtering\n",
        "print(\"All text Length : \", len(all_text))"
      ],
      "metadata": {
        "colab": {
          "base_uri": "https://localhost:8080/"
        },
        "id": "f0-x7cn_MzOt",
        "outputId": "95f589ec-9134-4092-8bb5-e027a9585939"
      },
      "execution_count": null,
      "outputs": [
        {
          "output_type": "stream",
          "name": "stdout",
          "text": [
            "all Text length :  1\n",
            "All text Length :  1\n"
          ]
        }
      ]
    },
    {
      "cell_type": "code",
      "source": [
        "!pip install nltk"
      ],
      "metadata": {
        "colab": {
          "base_uri": "https://localhost:8080/"
        },
        "id": "Yq_2q5iWNgoO",
        "outputId": "62c556d7-d2a1-4e74-dada-49ac53d2bcd9"
      },
      "execution_count": null,
      "outputs": [
        {
          "output_type": "stream",
          "name": "stdout",
          "text": [
            "Requirement already satisfied: nltk in /usr/local/lib/python3.10/dist-packages (3.8.1)\n",
            "Requirement already satisfied: click in /usr/local/lib/python3.10/dist-packages (from nltk) (8.1.7)\n",
            "Requirement already satisfied: joblib in /usr/local/lib/python3.10/dist-packages (from nltk) (1.3.2)\n",
            "Requirement already satisfied: regex>=2021.8.3 in /usr/local/lib/python3.10/dist-packages (from nltk) (2023.6.3)\n",
            "Requirement already satisfied: tqdm in /usr/local/lib/python3.10/dist-packages (from nltk) (4.66.1)\n"
          ]
        }
      ]
    },
    {
      "cell_type": "code",
      "source": [
        "import nltk\n",
        "nltk.download('stopwords')"
      ],
      "metadata": {
        "colab": {
          "base_uri": "https://localhost:8080/"
        },
        "id": "d5aRwWm4NlFO",
        "outputId": "590927bb-a6e6-4f5f-d69d-6e790defac79"
      },
      "execution_count": null,
      "outputs": [
        {
          "output_type": "stream",
          "name": "stderr",
          "text": [
            "[nltk_data] Downloading package stopwords to /root/nltk_data...\n",
            "[nltk_data]   Unzipping corpora/stopwords.zip.\n"
          ]
        },
        {
          "output_type": "execute_result",
          "data": {
            "text/plain": [
              "True"
            ]
          },
          "metadata": {},
          "execution_count": 6
        }
      ]
    },
    {
      "cell_type": "code",
      "source": [
        "STOPWORDS = stopwords.words(\"english\")"
      ],
      "metadata": {
        "id": "2kBPLXicM1ww"
      },
      "execution_count": null,
      "outputs": []
    },
    {
      "cell_type": "code",
      "source": [
        "pip install clean"
      ],
      "metadata": {
        "colab": {
          "base_uri": "https://localhost:8080/"
        },
        "id": "b2xzTO0-OTfF",
        "outputId": "6325c94d-ff68-46db-c439-362fa575dc0d"
      },
      "execution_count": null,
      "outputs": [
        {
          "output_type": "stream",
          "name": "stdout",
          "text": [
            "Collecting clean\n",
            "  Downloading clean-0.1.4-py3-none-any.whl (13 kB)\n",
            "Installing collected packages: clean\n",
            "Successfully installed clean-0.1.4\n"
          ]
        }
      ]
    },
    {
      "cell_type": "code",
      "source": [
        "def clean(text):\n",
        "    # Your cleaning logic goes here\n",
        "    cleaned_text = text.strip() # Stripping leading and trailing whitespaces\n",
        "    return cleaned_text\n",
        "\n",
        "# Apply the clean function to each element of all_text using list comprehension\n",
        "all_text = [clean(x) for x in all_text]"
      ],
      "metadata": {
        "id": "au2RYyo3NpXa"
      },
      "execution_count": null,
      "outputs": []
    },
    {
      "cell_type": "markdown",
      "source": [
        "**N GRAM**"
      ],
      "metadata": {
        "id": "XH77MkGe2e27"
      }
    },
    {
      "cell_type": "code",
      "source": [
        "token= Tokenizer()"
      ],
      "metadata": {
        "id": "GPZh5BgUPAiM"
      },
      "execution_count": null,
      "outputs": []
    },
    {
      "cell_type": "code",
      "source": [
        "# preprocessing\n",
        "token.fit_on_texts(all_text)"
      ],
      "metadata": {
        "id": "HRRn5EUgPENJ"
      },
      "execution_count": null,
      "outputs": []
    },
    {
      "cell_type": "code",
      "source": [
        "# we will use in padding  and model creation and ouptut layer ;\n",
        "total_words = len(token.word_index) + 1\n",
        "total_words"
      ],
      "metadata": {
        "colab": {
          "base_uri": "https://localhost:8080/"
        },
        "id": "JYkOIo4hPGdM",
        "outputId": "eab1d525-4056-4958-8ea4-46c3d3b77efb"
      },
      "execution_count": null,
      "outputs": [
        {
          "output_type": "execute_result",
          "data": {
            "text/plain": [
              "658"
            ]
          },
          "metadata": {},
          "execution_count": 12
        }
      ]
    },
    {
      "cell_type": "code",
      "source": [
        "line  = \"stand downward slide\""
      ],
      "metadata": {
        "id": "g64BOhOCPQ5A"
      },
      "execution_count": null,
      "outputs": []
    },
    {
      "cell_type": "code",
      "source": [
        "# converting a single line of text into a sequence of tokens\n",
        "token_list = token.texts_to_sequences([line])[0]"
      ],
      "metadata": {
        "id": "0PRey9-4PIKZ"
      },
      "execution_count": null,
      "outputs": []
    },
    {
      "cell_type": "code",
      "source": [
        "# creating n-grams\n",
        "for i in range(1,len(token_list)):\n",
        "    n_gram_seq = token_list[:i+1]\n",
        "    print(n_gram_seq)"
      ],
      "metadata": {
        "id": "Vlq3phZJPSpq"
      },
      "execution_count": null,
      "outputs": []
    },
    {
      "cell_type": "code",
      "source": [
        "def get_all_sequences(corpus):\n",
        "    # Fit the tokenizer on the entire corpus to build the vocabulary\n",
        "    token.fit_on_texts(all_text)\n",
        "\n",
        "    # Initialize an empty list to store the generated sequences of tokens\n",
        "    input_sequences = []\n",
        "\n",
        "\n",
        "    for line in corpus:\n",
        "        # Convert the text line into a sequence of tokens using the fitted tokenizer\n",
        "        token_list = token.texts_to_sequences([line])[0]\n",
        "\n",
        "        # Generate n-gram sequences from the token list\n",
        "        for i in range(1, len(token_list)):\n",
        "            # Slice the token list to create n-gram sequences of increasing lengths\n",
        "            n_gram_seq = token_list[:i + 1]\n",
        "            # Append each n-gram sequence to the list of input sequences\n",
        "            input_sequences.append(n_gram_seq)\n",
        "\n",
        "    return input_sequences\n",
        "\n"
      ],
      "metadata": {
        "id": "mrY5uEJNPXT2"
      },
      "execution_count": null,
      "outputs": []
    },
    {
      "cell_type": "code",
      "source": [
        "# Call the function to generate sequences of tokens from the entire text data\n",
        "all_seqs = get_all_sequences(all_text)\n",
        "\n",
        "# Display the first 10 sequences of tokens generated from the text data\n",
        "print(all_seqs[:10])"
      ],
      "metadata": {
        "colab": {
          "base_uri": "https://localhost:8080/"
        },
        "id": "7gXy-QKIPYQV",
        "outputId": "f9163936-b6dc-415a-c8c7-d2ef7728da79"
      },
      "execution_count": null,
      "outputs": [
        {
          "output_type": "stream",
          "name": "stdout",
          "text": [
            "[[4, 9], [4, 9, 20], [4, 9, 20, 254], [4, 9, 20, 254, 146], [4, 9, 20, 254, 146, 17], [4, 9, 20, 254, 146, 17, 11], [4, 9, 20, 254, 146, 17, 11, 62], [4, 9, 20, 254, 146, 17, 11, 62, 95], [4, 9, 20, 254, 146, 17, 11, 62, 95, 63], [4, 9, 20, 254, 146, 17, 11, 62, 95, 63, 10]]\n"
          ]
        }
      ]
    },
    {
      "cell_type": "code",
      "source": [
        "def gen_padded_seq(corpus):\n",
        "    # Find the maximum length of sequences in the corpus for padding\n",
        "    maxlen = max([len(x) for x in corpus])\n",
        "\n",
        "    # Pad the sequences to have uniform length using the maximum length found\n",
        "    input_sequences = np.array(pad_sequences(corpus, maxlen=maxlen, padding='pre'))  # Prefer 'pre' with LSTM/RNNs\n",
        "\n",
        "    # Split the sequences into predictors and labels\n",
        "    predictors, label = input_sequences[:, :-1], input_sequences[:, -1]\n",
        "\n",
        "    # Convert the labels to categorical one-hot encoding\n",
        "    label = to_categorical(label, num_classes=total_words)\n",
        "\n",
        "    # Return predictors, labels, maximum length, and the padded input sequences\n",
        "    return predictors, label, maxlen, input_sequences"
      ],
      "metadata": {
        "id": "Mv4uCSOOPepw"
      },
      "execution_count": null,
      "outputs": []
    },
    {
      "cell_type": "code",
      "source": [
        "# generate padded sequences from the all_seqs data and unpacks the returned values into four variables\n",
        "predictors,label,maxlen ,input_sequences= gen_padded_seq(all_seqs)"
      ],
      "metadata": {
        "id": "h33n1XYMPiKv"
      },
      "execution_count": null,
      "outputs": []
    },
    {
      "cell_type": "code",
      "source": [
        "print(\"general text we write :\",list(input_sequences[:,:-1][3]))\n",
        "print(\"Label/Next sequences should be : \",input_sequences[:,-1][3])\n",
        "print(\"Newly formed text : \",input_sequences[:,:-1][4])"
      ],
      "metadata": {
        "colab": {
          "base_uri": "https://localhost:8080/"
        },
        "id": "-1fn85AgPnPq",
        "outputId": "f482bbc9-dce9-4c24-fde0-349fbf777366"
      },
      "execution_count": null,
      "outputs": [
        {
          "output_type": "stream",
          "name": "stdout",
          "text": [
            "general text we write : [0, 0, 0, 0, 0, 0, 0, 0, 0, 0, 0, 0, 0, 0, 0, 0, 0, 0, 0, 0, 0, 0, 0, 0, 0, 0, 0, 0, 0, 0, 0, 0, 0, 0, 0, 0, 0, 0, 0, 0, 0, 0, 0, 0, 0, 0, 0, 0, 0, 0, 0, 0, 0, 0, 0, 0, 0, 0, 0, 0, 0, 0, 0, 0, 0, 0, 0, 0, 0, 0, 0, 0, 0, 0, 0, 0, 0, 0, 0, 0, 0, 0, 0, 0, 0, 0, 0, 0, 0, 0, 0, 0, 0, 0, 0, 0, 0, 0, 0, 0, 0, 0, 0, 0, 0, 0, 0, 0, 0, 0, 0, 0, 0, 0, 0, 0, 0, 0, 0, 0, 0, 0, 0, 0, 0, 0, 0, 0, 0, 0, 0, 0, 0, 0, 0, 0, 0, 0, 0, 0, 0, 0, 0, 0, 0, 0, 0, 0, 0, 0, 0, 0, 0, 0, 0, 0, 0, 0, 0, 0, 0, 0, 0, 0, 0, 0, 0, 0, 0, 0, 0, 0, 0, 0, 0, 0, 0, 0, 0, 0, 0, 0, 0, 0, 0, 0, 0, 0, 0, 0, 0, 0, 0, 0, 0, 0, 0, 0, 0, 0, 0, 0, 0, 0, 0, 0, 0, 0, 0, 0, 0, 0, 0, 0, 0, 0, 0, 0, 0, 0, 0, 0, 0, 0, 0, 0, 0, 0, 0, 0, 0, 0, 0, 0, 0, 0, 0, 0, 0, 0, 0, 0, 0, 0, 0, 0, 0, 0, 0, 0, 0, 0, 0, 0, 0, 0, 0, 0, 0, 0, 0, 0, 0, 0, 0, 0, 0, 0, 0, 0, 0, 0, 0, 0, 0, 0, 0, 0, 0, 0, 0, 0, 0, 0, 0, 0, 0, 0, 0, 0, 0, 0, 0, 0, 0, 0, 0, 0, 0, 0, 0, 0, 0, 0, 0, 0, 0, 0, 0, 0, 0, 0, 0, 0, 0, 0, 0, 0, 0, 0, 0, 0, 0, 0, 0, 0, 0, 0, 0, 0, 0, 0, 0, 0, 0, 0, 0, 0, 0, 0, 0, 0, 0, 0, 0, 0, 0, 0, 0, 0, 0, 0, 0, 0, 0, 0, 0, 0, 0, 0, 0, 0, 0, 0, 0, 0, 0, 0, 0, 0, 0, 0, 0, 0, 0, 0, 0, 0, 0, 0, 0, 0, 0, 0, 0, 0, 0, 0, 0, 0, 0, 0, 0, 0, 0, 0, 0, 0, 0, 0, 0, 0, 0, 0, 0, 0, 0, 0, 0, 0, 0, 0, 0, 0, 0, 0, 0, 0, 0, 0, 0, 0, 0, 0, 0, 0, 0, 0, 0, 0, 0, 0, 0, 0, 0, 0, 0, 0, 0, 0, 0, 0, 0, 0, 0, 0, 0, 0, 0, 0, 0, 0, 0, 0, 0, 0, 0, 0, 0, 0, 0, 0, 0, 0, 0, 0, 0, 0, 0, 0, 0, 0, 0, 0, 0, 0, 0, 0, 0, 0, 0, 0, 0, 0, 0, 0, 0, 0, 0, 0, 0, 0, 0, 0, 0, 0, 0, 0, 0, 0, 0, 0, 0, 0, 0, 0, 0, 0, 0, 0, 0, 0, 0, 0, 0, 0, 0, 0, 0, 0, 0, 0, 0, 0, 0, 0, 0, 0, 0, 0, 0, 0, 0, 0, 0, 0, 0, 0, 0, 0, 0, 0, 0, 0, 0, 0, 0, 0, 0, 0, 0, 0, 0, 0, 0, 0, 0, 0, 0, 0, 0, 0, 0, 0, 0, 0, 0, 0, 0, 0, 0, 0, 0, 0, 0, 0, 0, 0, 0, 0, 0, 0, 0, 0, 0, 0, 0, 0, 0, 0, 0, 0, 0, 0, 0, 0, 0, 0, 0, 0, 0, 0, 0, 0, 0, 0, 0, 0, 0, 0, 0, 0, 0, 0, 0, 0, 0, 0, 0, 0, 0, 0, 0, 0, 0, 0, 0, 0, 0, 0, 0, 0, 0, 0, 0, 0, 0, 0, 0, 0, 0, 0, 0, 0, 0, 0, 0, 0, 0, 0, 0, 0, 0, 0, 0, 0, 0, 0, 0, 0, 0, 0, 0, 0, 0, 0, 0, 0, 0, 0, 0, 0, 0, 0, 0, 0, 0, 0, 0, 0, 0, 0, 0, 0, 0, 0, 0, 0, 0, 0, 0, 0, 0, 0, 0, 0, 0, 0, 0, 0, 0, 0, 0, 0, 0, 0, 0, 0, 0, 0, 0, 0, 0, 0, 0, 0, 0, 0, 0, 0, 0, 0, 0, 0, 0, 0, 0, 0, 0, 0, 0, 0, 0, 0, 0, 0, 0, 0, 0, 0, 0, 0, 0, 0, 0, 0, 0, 0, 0, 0, 0, 0, 0, 0, 0, 0, 0, 0, 0, 0, 0, 0, 0, 0, 0, 0, 0, 0, 0, 0, 0, 0, 0, 0, 0, 0, 0, 0, 0, 0, 0, 0, 0, 0, 0, 0, 0, 0, 0, 0, 0, 0, 0, 0, 0, 0, 0, 0, 0, 0, 0, 0, 0, 0, 0, 0, 0, 0, 0, 0, 0, 0, 0, 0, 0, 0, 0, 0, 0, 0, 0, 0, 0, 0, 0, 0, 0, 0, 0, 0, 0, 0, 0, 0, 0, 0, 0, 0, 0, 0, 0, 0, 0, 0, 0, 0, 0, 0, 0, 0, 0, 0, 0, 0, 0, 0, 0, 0, 0, 0, 0, 0, 0, 0, 0, 0, 0, 0, 0, 0, 0, 0, 0, 0, 0, 0, 0, 0, 0, 0, 0, 0, 0, 0, 0, 0, 0, 0, 0, 0, 0, 0, 0, 0, 0, 0, 0, 0, 0, 0, 0, 0, 0, 0, 0, 0, 0, 0, 0, 0, 0, 0, 0, 0, 0, 0, 0, 0, 0, 0, 0, 0, 0, 0, 0, 0, 0, 0, 0, 0, 0, 0, 0, 0, 0, 0, 0, 0, 0, 0, 0, 0, 0, 0, 0, 0, 0, 0, 0, 0, 0, 0, 0, 0, 0, 0, 0, 0, 0, 0, 0, 0, 0, 0, 0, 0, 0, 0, 0, 0, 0, 0, 0, 0, 0, 0, 0, 0, 0, 0, 0, 0, 0, 0, 0, 0, 0, 0, 0, 0, 0, 0, 0, 0, 0, 0, 0, 0, 0, 0, 0, 0, 0, 0, 0, 0, 0, 0, 0, 0, 0, 0, 0, 0, 0, 0, 0, 0, 0, 0, 0, 0, 0, 0, 0, 0, 0, 0, 0, 0, 0, 0, 0, 0, 0, 0, 0, 0, 0, 0, 0, 0, 0, 0, 0, 0, 0, 0, 0, 0, 0, 0, 0, 0, 0, 0, 0, 0, 0, 0, 0, 0, 0, 0, 0, 0, 0, 0, 0, 0, 0, 0, 0, 0, 0, 0, 0, 0, 0, 0, 0, 0, 0, 0, 0, 0, 0, 0, 0, 0, 0, 0, 0, 0, 0, 0, 0, 0, 0, 0, 0, 0, 0, 0, 0, 0, 0, 0, 0, 0, 0, 0, 0, 0, 0, 0, 0, 0, 0, 0, 0, 0, 0, 0, 0, 0, 0, 0, 0, 0, 0, 0, 0, 0, 0, 0, 0, 0, 0, 0, 0, 0, 0, 0, 0, 0, 0, 0, 0, 0, 0, 0, 0, 0, 0, 0, 0, 0, 0, 0, 0, 0, 0, 0, 0, 0, 0, 0, 0, 0, 0, 0, 0, 0, 0, 0, 0, 0, 0, 0, 0, 0, 0, 0, 0, 0, 0, 0, 0, 0, 0, 0, 0, 0, 0, 0, 0, 0, 0, 0, 0, 0, 0, 0, 0, 0, 0, 0, 0, 0, 0, 0, 0, 0, 0, 0, 0, 0, 0, 0, 0, 0, 0, 0, 0, 0, 0, 0, 0, 0, 0, 0, 0, 0, 0, 0, 0, 0, 0, 0, 0, 0, 0, 0, 0, 0, 0, 0, 0, 0, 0, 0, 0, 0, 0, 0, 0, 0, 0, 0, 0, 0, 0, 0, 0, 0, 0, 0, 0, 0, 0, 0, 0, 0, 0, 0, 0, 0, 0, 0, 0, 0, 0, 0, 0, 0, 0, 0, 0, 0, 0, 0, 0, 0, 0, 0, 0, 0, 0, 0, 0, 0, 0, 0, 0, 0, 0, 0, 0, 0, 0, 0, 0, 0, 0, 0, 0, 0, 0, 0, 0, 0, 0, 0, 0, 0, 0, 0, 0, 0, 0, 0, 0, 0, 0, 0, 0, 0, 0, 0, 0, 0, 0, 0, 0, 0, 0, 0, 0, 0, 0, 0, 0, 0, 0, 0, 0, 0, 0, 0, 0, 0, 0, 0, 0, 0, 0, 0, 0, 0, 0, 0, 0, 0, 0, 0, 0, 0, 0, 0, 0, 0, 0, 0, 0, 0, 0, 0, 0, 0, 0, 0, 0, 0, 0, 0, 0, 0, 0, 0, 0, 0, 0, 0, 0, 0, 0, 0, 0, 0, 0, 0, 0, 0, 0, 0, 0, 0, 0, 0, 0, 0, 0, 0, 0, 0, 0, 0, 0, 0, 0, 0, 0, 0, 0, 0, 0, 0, 0, 0, 0, 0, 0, 0, 0, 0, 0, 0, 0, 0, 0, 0, 0, 0, 0, 0, 0, 0, 0, 0, 0, 0, 0, 0, 0, 0, 0, 0, 0, 0, 0, 0, 0, 0, 0, 0, 0, 0, 0, 0, 0, 0, 0, 0, 0, 0, 0, 0, 0, 0, 0, 0, 0, 0, 0, 0, 0, 0, 0, 0, 0, 0, 0, 0, 0, 0, 0, 0, 0, 0, 0, 0, 0, 0, 0, 0, 0, 0, 0, 0, 0, 0, 0, 0, 0, 0, 0, 0, 0, 0, 0, 0, 0, 0, 0, 0, 0, 0, 0, 0, 0, 0, 0, 0, 0, 0, 0, 0, 0, 0, 0, 0, 0, 0, 0, 0, 0, 0, 0, 0, 0, 0, 0, 0, 0, 0, 0, 0, 0, 0, 0, 0, 0, 0, 0, 0, 0, 0, 0, 0, 0, 0, 0, 0, 0, 0, 0, 0, 0, 0, 0, 0, 0, 0, 0, 0, 0, 0, 0, 0, 0, 0, 0, 0, 0, 0, 0, 0, 0, 0, 0, 0, 0, 0, 0, 0, 0, 0, 0, 0, 0, 0, 0, 0, 0, 0, 0, 0, 0, 0, 0, 0, 0, 0, 0, 0, 0, 0, 0, 0, 0, 0, 0, 0, 0, 0, 0, 0, 0, 0, 0, 0, 0, 0, 0, 0, 0, 0, 0, 0, 0, 0, 0, 0, 0, 0, 0, 0, 0, 0, 0, 0, 0, 0, 0, 0, 0, 0, 0, 0, 0, 0, 0, 0, 0, 0, 0, 0, 0, 0, 0, 0, 0, 0, 0, 0, 0, 0, 0, 0, 0, 0, 0, 0, 0, 0, 0, 0, 0, 0, 0, 0, 0, 0, 0, 0, 0, 0, 0, 0, 0, 0, 0, 0, 0, 0, 0, 0, 0, 0, 0, 0, 0, 0, 0, 0, 0, 0, 0, 0, 0, 0, 0, 0, 0, 0, 0, 0, 0, 0, 0, 0, 0, 0, 0, 0, 0, 0, 0, 0, 0, 0, 0, 0, 0, 0, 0, 0, 0, 0, 0, 0, 0, 0, 0, 0, 0, 0, 0, 0, 0, 0, 0, 0, 0, 0, 0, 0, 0, 0, 0, 0, 0, 0, 0, 0, 0, 0, 0, 0, 0, 0, 0, 0, 0, 0, 0, 0, 0, 0, 0, 0, 0, 0, 0, 0, 0, 0, 0, 0, 0, 0, 0, 0, 0, 0, 0, 0, 0, 0, 0, 0, 0, 0, 0, 0, 0, 0, 0, 0, 0, 0, 0, 0, 0, 0, 0, 0, 0, 0, 0, 0, 0, 0, 0, 0, 0, 0, 0, 0, 0, 0, 0, 0, 0, 0, 0, 0, 0, 0, 0, 0, 0, 0, 0, 0, 0, 0, 0, 0, 0, 0, 0, 0, 0, 0, 0, 0, 0, 0, 0, 0, 0, 0, 0, 0, 0, 0, 0, 0, 0, 0, 0, 0, 0, 0, 0, 0, 0, 0, 0, 0, 0, 0, 0, 0, 0, 0, 0, 0, 0, 0, 0, 0, 0, 0, 0, 0, 0, 0, 0, 0, 0, 0, 0, 0, 0, 0, 0, 0, 0, 0, 0, 0, 0, 0, 0, 0, 0, 0, 0, 0, 0, 0, 0, 0, 0, 0, 0, 0, 0, 0, 0, 0, 0, 0, 0, 0, 0, 0, 0, 0, 0, 0, 0, 0, 0, 0, 0, 0, 0, 0, 0, 0, 0, 0, 0, 0, 0, 0, 0, 0, 0, 0, 0, 0, 0, 0, 0, 0, 0, 0, 0, 0, 0, 0, 0, 0, 0, 0, 0, 0, 0, 0, 0, 0, 0, 0, 0, 0, 0, 0, 0, 0, 0, 0, 0, 0, 0, 0, 0, 0, 0, 0, 0, 0, 0, 0, 0, 0, 0, 0, 0, 0, 0, 0, 0, 0, 0, 0, 0, 0, 0, 0, 0, 0, 0, 0, 0, 0, 0, 0, 0, 0, 0, 0, 0, 0, 0, 0, 0, 0, 0, 0, 0, 0, 0, 0, 0, 0, 0, 4, 9, 20, 254]\n",
            "Label/Next sequences should be :  146\n",
            "Newly formed text :  [  0   0   0 ...  20 254 146]\n"
          ]
        }
      ]
    },
    {
      "cell_type": "markdown",
      "source": [
        "**MODEL CREATION**"
      ],
      "metadata": {
        "id": "R7ssGhaz3I8w"
      }
    },
    {
      "cell_type": "code",
      "source": [
        "# Determine the length of input sequences (excluding the last token)\n",
        "input_len = maxlen - 1\n",
        "\n",
        "# Define the architecture of the neural network model\n",
        "model = Sequential([\n",
        "    # Add an embedding layer with input dimension equal to 'total_words', output dimension 10, and input length 'input_len'\n",
        "    Embedding(total_words, 10, input_length=input_len),\n",
        "\n",
        "    # Add an LSTM layer with 100 units\n",
        "    LSTM(100),\n",
        "\n",
        "    # Add a dropout layer to prevent overfitting, with a dropout rate of 0.2\n",
        "    Dropout(0.2),\n",
        "\n",
        "    # Add a dense layer with 'total_words' neurons and softmax activation function\n",
        "    # Softmax activation is used because the output represents a probability distribution over the vocabulary\n",
        "    Dense(total_words, activation='softmax')\n",
        "])\n"
      ],
      "metadata": {
        "id": "X_l7tMcCPqim"
      },
      "execution_count": null,
      "outputs": []
    },
    {
      "cell_type": "code",
      "source": [
        "model.compile(loss='categorical_crossentropy',optimizer='adam',metrics=['acc'])"
      ],
      "metadata": {
        "id": "77-N-OnZPs1z"
      },
      "execution_count": null,
      "outputs": []
    },
    {
      "cell_type": "code",
      "source": [
        "model.summary()"
      ],
      "metadata": {
        "colab": {
          "base_uri": "https://localhost:8080/"
        },
        "id": "ex3FybDtPvC_",
        "outputId": "02624101-86af-4205-c54c-679284161bf9"
      },
      "execution_count": null,
      "outputs": [
        {
          "output_type": "stream",
          "name": "stdout",
          "text": [
            "Model: \"sequential\"\n",
            "_________________________________________________________________\n",
            " Layer (type)                Output Shape              Param #   \n",
            "=================================================================\n",
            " embedding (Embedding)       (None, 2085, 10)          6580      \n",
            "                                                                 \n",
            " lstm (LSTM)                 (None, 100)               44400     \n",
            "                                                                 \n",
            " dropout (Dropout)           (None, 100)               0         \n",
            "                                                                 \n",
            " dense (Dense)               (None, 658)               66458     \n",
            "                                                                 \n",
            "=================================================================\n",
            "Total params: 117438 (458.74 KB)\n",
            "Trainable params: 117438 (458.74 KB)\n",
            "Non-trainable params: 0 (0.00 Byte)\n",
            "_________________________________________________________________\n"
          ]
        }
      ]
    },
    {
      "cell_type": "code",
      "source": [
        "model.fit(predictors,label,epochs=100,batch_size=32)"
      ],
      "metadata": {
        "colab": {
          "base_uri": "https://localhost:8080/"
        },
        "id": "8r2By4dqPxbW",
        "outputId": "07bd29ee-95a7-4264-af0b-f9b2254eff3a"
      },
      "execution_count": null,
      "outputs": [
        {
          "output_type": "stream",
          "name": "stdout",
          "text": [
            "Epoch 1/100\n",
            "66/66 [==============================] - 14s 144ms/step - loss: 6.0559 - acc: 0.0350\n",
            "Epoch 2/100\n",
            "66/66 [==============================] - 6s 98ms/step - loss: 5.6081 - acc: 0.0532\n",
            "Epoch 3/100\n",
            "66/66 [==============================] - 5s 78ms/step - loss: 5.5607 - acc: 0.0489\n",
            "Epoch 4/100\n",
            "66/66 [==============================] - 5s 74ms/step - loss: 5.5297 - acc: 0.0518\n",
            "Epoch 5/100\n",
            "66/66 [==============================] - 4s 68ms/step - loss: 5.4787 - acc: 0.0499\n",
            "Epoch 6/100\n",
            "66/66 [==============================] - 5s 70ms/step - loss: 5.4299 - acc: 0.0441\n",
            "Epoch 7/100\n",
            "66/66 [==============================] - 5s 74ms/step - loss: 5.3866 - acc: 0.0489\n",
            "Epoch 8/100\n",
            "66/66 [==============================] - 5s 74ms/step - loss: 5.3482 - acc: 0.0504\n",
            "Epoch 9/100\n",
            "66/66 [==============================] - 5s 76ms/step - loss: 5.3120 - acc: 0.0518\n",
            "Epoch 10/100\n",
            "66/66 [==============================] - 5s 70ms/step - loss: 5.2713 - acc: 0.0547\n",
            "Epoch 11/100\n",
            "66/66 [==============================] - 4s 66ms/step - loss: 5.2291 - acc: 0.0647\n",
            "Epoch 12/100\n",
            "66/66 [==============================] - 5s 68ms/step - loss: 5.1815 - acc: 0.0604\n",
            "Epoch 13/100\n",
            "66/66 [==============================] - 4s 65ms/step - loss: 5.1309 - acc: 0.0662\n",
            "Epoch 14/100\n",
            "66/66 [==============================] - 5s 72ms/step - loss: 5.0773 - acc: 0.0705\n",
            "Epoch 15/100\n",
            "66/66 [==============================] - 4s 67ms/step - loss: 5.0146 - acc: 0.0719\n",
            "Epoch 16/100\n",
            "66/66 [==============================] - 4s 65ms/step - loss: 4.9526 - acc: 0.0859\n",
            "Epoch 17/100\n",
            "66/66 [==============================] - 5s 71ms/step - loss: 4.8961 - acc: 0.0887\n",
            "Epoch 18/100\n",
            "66/66 [==============================] - 4s 68ms/step - loss: 4.8204 - acc: 0.0892\n",
            "Epoch 19/100\n",
            "66/66 [==============================] - 4s 66ms/step - loss: 4.7626 - acc: 0.0897\n",
            "Epoch 20/100\n",
            "66/66 [==============================] - 5s 71ms/step - loss: 4.6938 - acc: 0.0978\n",
            "Epoch 21/100\n",
            "66/66 [==============================] - 5s 70ms/step - loss: 4.6267 - acc: 0.1074\n",
            "Epoch 22/100\n",
            "66/66 [==============================] - 5s 78ms/step - loss: 4.5643 - acc: 0.1007\n",
            "Epoch 23/100\n",
            "66/66 [==============================] - 5s 69ms/step - loss: 4.4987 - acc: 0.1108\n",
            "Epoch 24/100\n",
            "66/66 [==============================] - 4s 66ms/step - loss: 4.4410 - acc: 0.1108\n",
            "Epoch 25/100\n",
            "66/66 [==============================] - 5s 70ms/step - loss: 4.3788 - acc: 0.1137\n",
            "Epoch 26/100\n",
            "66/66 [==============================] - 4s 66ms/step - loss: 4.3207 - acc: 0.1180\n",
            "Epoch 27/100\n",
            "66/66 [==============================] - 4s 67ms/step - loss: 4.2504 - acc: 0.1233\n",
            "Epoch 28/100\n",
            "66/66 [==============================] - 5s 69ms/step - loss: 4.1832 - acc: 0.1233\n",
            "Epoch 29/100\n",
            "66/66 [==============================] - 4s 64ms/step - loss: 4.1148 - acc: 0.1314\n",
            "Epoch 30/100\n",
            "66/66 [==============================] - 4s 67ms/step - loss: 4.0598 - acc: 0.1405\n",
            "Epoch 31/100\n",
            "66/66 [==============================] - 4s 65ms/step - loss: 3.9884 - acc: 0.1429\n",
            "Epoch 32/100\n",
            "66/66 [==============================] - 4s 64ms/step - loss: 3.9427 - acc: 0.1506\n",
            "Epoch 33/100\n",
            "66/66 [==============================] - 5s 70ms/step - loss: 3.8852 - acc: 0.1602\n",
            "Epoch 34/100\n",
            "66/66 [==============================] - 4s 64ms/step - loss: 3.8176 - acc: 0.1530\n",
            "Epoch 35/100\n",
            "66/66 [==============================] - 4s 66ms/step - loss: 3.7525 - acc: 0.1712\n",
            "Epoch 36/100\n",
            "66/66 [==============================] - 5s 70ms/step - loss: 3.7002 - acc: 0.1827\n",
            "Epoch 37/100\n",
            "66/66 [==============================] - 4s 68ms/step - loss: 3.6227 - acc: 0.1990\n",
            "Epoch 38/100\n",
            "66/66 [==============================] - 5s 74ms/step - loss: 3.5723 - acc: 0.2038\n",
            "Epoch 39/100\n",
            "66/66 [==============================] - 5s 73ms/step - loss: 3.5168 - acc: 0.2173\n",
            "Epoch 40/100\n",
            "66/66 [==============================] - 4s 63ms/step - loss: 3.4584 - acc: 0.2163\n",
            "Epoch 41/100\n",
            "66/66 [==============================] - 5s 70ms/step - loss: 3.4046 - acc: 0.2317\n",
            "Epoch 42/100\n",
            "66/66 [==============================] - 4s 68ms/step - loss: 3.3415 - acc: 0.2345\n",
            "Epoch 43/100\n",
            "66/66 [==============================] - 4s 63ms/step - loss: 3.2732 - acc: 0.2537\n",
            "Epoch 44/100\n",
            "66/66 [==============================] - 5s 69ms/step - loss: 3.2379 - acc: 0.2508\n",
            "Epoch 45/100\n",
            "66/66 [==============================] - 4s 65ms/step - loss: 3.1788 - acc: 0.2691\n",
            "Epoch 46/100\n",
            "66/66 [==============================] - 4s 63ms/step - loss: 3.1097 - acc: 0.2969\n",
            "Epoch 47/100\n",
            "66/66 [==============================] - 4s 68ms/step - loss: 3.0545 - acc: 0.3194\n",
            "Epoch 48/100\n",
            "66/66 [==============================] - 4s 66ms/step - loss: 3.0184 - acc: 0.3165\n",
            "Epoch 49/100\n",
            "66/66 [==============================] - 4s 65ms/step - loss: 2.9489 - acc: 0.3444\n",
            "Epoch 50/100\n",
            "66/66 [==============================] - 4s 67ms/step - loss: 2.9166 - acc: 0.3348\n",
            "Epoch 51/100\n",
            "66/66 [==============================] - 4s 66ms/step - loss: 2.8527 - acc: 0.3477\n",
            "Epoch 52/100\n",
            "66/66 [==============================] - 4s 68ms/step - loss: 2.8226 - acc: 0.3602\n",
            "Epoch 53/100\n",
            "66/66 [==============================] - 4s 67ms/step - loss: 2.7433 - acc: 0.3885\n",
            "Epoch 54/100\n",
            "66/66 [==============================] - 4s 64ms/step - loss: 2.7107 - acc: 0.3779\n",
            "Epoch 55/100\n",
            "66/66 [==============================] - 5s 69ms/step - loss: 2.6730 - acc: 0.4048\n",
            "Epoch 56/100\n",
            "66/66 [==============================] - 4s 66ms/step - loss: 2.6051 - acc: 0.4139\n",
            "Epoch 57/100\n",
            "66/66 [==============================] - 4s 67ms/step - loss: 2.5522 - acc: 0.4293\n",
            "Epoch 58/100\n",
            "66/66 [==============================] - 5s 71ms/step - loss: 2.5342 - acc: 0.4254\n",
            "Epoch 59/100\n",
            "66/66 [==============================] - 4s 66ms/step - loss: 2.4660 - acc: 0.4422\n",
            "Epoch 60/100\n",
            "66/66 [==============================] - 5s 69ms/step - loss: 2.4438 - acc: 0.4556\n",
            "Epoch 61/100\n",
            "66/66 [==============================] - 4s 67ms/step - loss: 2.3855 - acc: 0.4552\n",
            "Epoch 62/100\n",
            "66/66 [==============================] - 4s 66ms/step - loss: 2.3207 - acc: 0.4926\n",
            "Epoch 63/100\n",
            "66/66 [==============================] - 5s 69ms/step - loss: 2.2828 - acc: 0.4921\n",
            "Epoch 64/100\n",
            "66/66 [==============================] - 4s 65ms/step - loss: 2.2517 - acc: 0.4882\n",
            "Epoch 65/100\n",
            "66/66 [==============================] - 4s 66ms/step - loss: 2.2240 - acc: 0.4988\n",
            "Epoch 66/100\n",
            "66/66 [==============================] - 5s 69ms/step - loss: 2.1588 - acc: 0.5146\n",
            "Epoch 67/100\n",
            "66/66 [==============================] - 4s 66ms/step - loss: 2.1380 - acc: 0.5271\n",
            "Epoch 68/100\n",
            "66/66 [==============================] - 4s 64ms/step - loss: 2.0999 - acc: 0.5309\n",
            "Epoch 69/100\n",
            "66/66 [==============================] - 5s 70ms/step - loss: 2.0585 - acc: 0.5487\n",
            "Epoch 70/100\n",
            "66/66 [==============================] - 4s 68ms/step - loss: 2.0272 - acc: 0.5511\n",
            "Epoch 71/100\n",
            "66/66 [==============================] - 5s 70ms/step - loss: 1.9770 - acc: 0.5635\n",
            "Epoch 72/100\n",
            "66/66 [==============================] - 4s 66ms/step - loss: 1.9514 - acc: 0.5751\n",
            "Epoch 73/100\n",
            "66/66 [==============================] - 4s 64ms/step - loss: 1.9241 - acc: 0.5784\n",
            "Epoch 74/100\n",
            "66/66 [==============================] - 5s 69ms/step - loss: 1.8830 - acc: 0.5808\n",
            "Epoch 75/100\n",
            "66/66 [==============================] - 4s 64ms/step - loss: 1.8430 - acc: 0.5909\n",
            "Epoch 76/100\n",
            "66/66 [==============================] - 4s 66ms/step - loss: 1.8255 - acc: 0.6000\n",
            "Epoch 77/100\n",
            "66/66 [==============================] - 5s 68ms/step - loss: 1.7824 - acc: 0.6082\n",
            "Epoch 78/100\n",
            "66/66 [==============================] - 4s 63ms/step - loss: 1.7485 - acc: 0.6134\n",
            "Epoch 79/100\n",
            "66/66 [==============================] - 4s 64ms/step - loss: 1.7285 - acc: 0.6288\n",
            "Epoch 80/100\n",
            "66/66 [==============================] - 5s 70ms/step - loss: 1.6908 - acc: 0.6269\n",
            "Epoch 81/100\n",
            "66/66 [==============================] - 4s 64ms/step - loss: 1.6453 - acc: 0.6331\n",
            "Epoch 82/100\n",
            "66/66 [==============================] - 5s 70ms/step - loss: 1.6468 - acc: 0.6470\n",
            "Epoch 83/100\n",
            "66/66 [==============================] - 4s 65ms/step - loss: 1.6141 - acc: 0.6456\n",
            "Epoch 84/100\n",
            "66/66 [==============================] - 4s 66ms/step - loss: 1.6013 - acc: 0.6585\n",
            "Epoch 85/100\n",
            "66/66 [==============================] - 5s 71ms/step - loss: 1.5703 - acc: 0.6624\n",
            "Epoch 86/100\n",
            "66/66 [==============================] - 4s 66ms/step - loss: 1.5300 - acc: 0.6600\n",
            "Epoch 87/100\n",
            "66/66 [==============================] - 4s 64ms/step - loss: 1.5065 - acc: 0.6638\n",
            "Epoch 88/100\n",
            "66/66 [==============================] - 5s 68ms/step - loss: 1.4977 - acc: 0.6657\n",
            "Epoch 89/100\n",
            "66/66 [==============================] - 4s 64ms/step - loss: 1.4538 - acc: 0.6844\n",
            "Epoch 90/100\n",
            "66/66 [==============================] - 4s 64ms/step - loss: 1.4367 - acc: 0.6859\n",
            "Epoch 91/100\n",
            "66/66 [==============================] - 5s 68ms/step - loss: 1.4013 - acc: 0.7074\n",
            "Epoch 92/100\n",
            "66/66 [==============================] - 4s 64ms/step - loss: 1.3599 - acc: 0.7065\n",
            "Epoch 93/100\n",
            "66/66 [==============================] - 4s 67ms/step - loss: 1.3547 - acc: 0.7055\n",
            "Epoch 94/100\n",
            "66/66 [==============================] - 4s 65ms/step - loss: 1.3161 - acc: 0.7175\n",
            "Epoch 95/100\n",
            "66/66 [==============================] - 4s 66ms/step - loss: 1.3236 - acc: 0.7199\n",
            "Epoch 96/100\n",
            "66/66 [==============================] - 4s 68ms/step - loss: 1.3174 - acc: 0.7137\n",
            "Epoch 97/100\n",
            "66/66 [==============================] - 4s 64ms/step - loss: 1.2845 - acc: 0.7070\n",
            "Epoch 98/100\n",
            "66/66 [==============================] - 4s 64ms/step - loss: 1.2593 - acc: 0.7314\n",
            "Epoch 99/100\n",
            "66/66 [==============================] - 5s 68ms/step - loss: 1.2301 - acc: 0.7405\n",
            "Epoch 100/100\n",
            "66/66 [==============================] - 4s 65ms/step - loss: 1.2070 - acc: 0.7333\n"
          ]
        },
        {
          "output_type": "execute_result",
          "data": {
            "text/plain": [
              "<keras.src.callbacks.History at 0x7bb1b84b3dc0>"
            ]
          },
          "metadata": {},
          "execution_count": 24
        }
      ]
    },
    {
      "cell_type": "code",
      "source": [
        "def to_padded(text, input_len=input_len):\n",
        "    # Convert the input text into a sequence of tokens using the tokenizer\n",
        "    token_list = token.texts_to_sequences([text])[0]\n",
        "\n",
        "    # Pad the sequence of tokens to match the specified input length\n",
        "    # Use 'pre' padding to ensure consistency with model training\n",
        "    padded = pad_sequences([token_list], maxlen=maxlen - 1, padding='pre')\n",
        "\n",
        "    # Return the padded sequence\n",
        "    return padded\n"
      ],
      "metadata": {
        "id": "WDCxgIqvSnlP"
      },
      "execution_count": null,
      "outputs": []
    },
    {
      "cell_type": "code",
      "source": [
        "# Convert the input text \"United states\" into a padded sequence of tokens\n",
        "text  = to_padded(\"United states\")\n",
        "text"
      ],
      "metadata": {
        "colab": {
          "base_uri": "https://localhost:8080/"
        },
        "id": "sSZ2E9IRSqFA",
        "outputId": "b923b67b-a6a8-4c05-d934-83a5ae344d13"
      },
      "execution_count": null,
      "outputs": [
        {
          "output_type": "execute_result",
          "data": {
            "text/plain": [
              "array([[0, 0, 0, ..., 0, 0, 0]], dtype=int32)"
            ]
          },
          "metadata": {},
          "execution_count": 26
        }
      ]
    },
    {
      "cell_type": "code",
      "source": [
        "## Find the index of the token with the highest probability for each sequence in the batch\n",
        "def predict(padded):\n",
        "    return list(np.argmax(model.predict(padded),axis=1))"
      ],
      "metadata": {
        "id": "1eNgoy6CTilz"
      },
      "execution_count": null,
      "outputs": []
    },
    {
      "cell_type": "code",
      "source": [
        "seq  = predict(text)\n",
        "seq"
      ],
      "metadata": {
        "colab": {
          "base_uri": "https://localhost:8080/"
        },
        "id": "rnylmhZ_z2yi",
        "outputId": "f650d36e-2e9d-46b0-ac7e-1350a0c8c023"
      },
      "execution_count": null,
      "outputs": [
        {
          "output_type": "stream",
          "name": "stdout",
          "text": [
            "1/1 [==============================] - 0s 397ms/step\n"
          ]
        },
        {
          "output_type": "execute_result",
          "data": {
            "text/plain": [
              "[2]"
            ]
          },
          "metadata": {},
          "execution_count": 28
        }
      ]
    },
    {
      "cell_type": "code",
      "source": [
        "def reverse_to_word(seq):\n",
        "    # Initialize an empty string to hold the reconstructed text\n",
        "    text = \"\"\n",
        "\n",
        "    # Iterate over each word-index pair in the word index dictionary of the tokenizer\n",
        "    for word, index in token.word_index.items():\n",
        "        # Iterate over each index in the input sequence 'seq'\n",
        "        for n in seq:\n",
        "            # If the index matches the current index in the loop, append the corresponding word to the 'text' string\n",
        "            if n == index:\n",
        "                text += \" \" + word\n",
        "                # Break out of the inner loop once the word is found for the current index\n",
        "                break\n",
        "\n",
        "    # Return the reconstructed text\n",
        "    return text\n"
      ],
      "metadata": {
        "id": "40isTDGgSwTm"
      },
      "execution_count": null,
      "outputs": []
    },
    {
      "cell_type": "code",
      "source": [
        "# Call the function to reconstruct the sequence into text\n",
        "reverse_to_word(seq)"
      ],
      "metadata": {
        "colab": {
          "base_uri": "https://localhost:8080/",
          "height": 36
        },
        "id": "o5nctHIHSyD2",
        "outputId": "f3a710c7-0f28-4f69-f73f-c35ba6c52e52"
      },
      "execution_count": null,
      "outputs": [
        {
          "output_type": "execute_result",
          "data": {
            "text/plain": [
              "' to'"
            ],
            "application/vnd.google.colaboratory.intrinsic+json": {
              "type": "string"
            }
          },
          "metadata": {},
          "execution_count": 30
        }
      ]
    },
    {
      "cell_type": "code",
      "source": [
        "def generate_next_seq(text):\n",
        "    # Convert the input text into a padded sequence of tokens\n",
        "    padded = to_padded(text)\n",
        "\n",
        "    # Predict the next token classes based on the padded sequence\n",
        "    classes = predict(padded)\n",
        "\n",
        "    # Generate the next sequence of words based on the predicted token classes\n",
        "    next_sequence = reverse_to_word(classes)\n",
        "\n",
        "    # Return the generated next sequence of words\n",
        "    return next_sequence\n"
      ],
      "metadata": {
        "id": "qRgjxY6pS2pr"
      },
      "execution_count": null,
      "outputs": []
    },
    {
      "cell_type": "code",
      "source": [
        "# Finally Continuous cycle for text ->  pad -> predict -> to_text ->  new text  = to_text + text\n",
        "def generate_text(text,n_times):\n",
        "\n",
        "\n",
        "    for i in range(n_times):\n",
        "        text +=  generate_next_seq(text)\n",
        "\n",
        "    return text\n"
      ],
      "metadata": {
        "id": "qSJ75WfMz_wz"
      },
      "execution_count": null,
      "outputs": []
    },
    {
      "cell_type": "code",
      "source": [
        "print(generate_text(\"role\",25))"
      ],
      "metadata": {
        "colab": {
          "base_uri": "https://localhost:8080/"
        },
        "id": "AU_pRAVSP9AG",
        "outputId": "a7904457-3e25-4ef6-eaed-4591491b5622"
      },
      "execution_count": null,
      "outputs": [
        {
          "output_type": "stream",
          "name": "stdout",
          "text": [
            "1/1 [==============================] - 0s 37ms/step\n",
            "1/1 [==============================] - 0s 36ms/step\n",
            "1/1 [==============================] - 0s 35ms/step\n",
            "1/1 [==============================] - 0s 35ms/step\n",
            "1/1 [==============================] - 0s 36ms/step\n",
            "1/1 [==============================] - 0s 36ms/step\n",
            "1/1 [==============================] - 0s 36ms/step\n",
            "1/1 [==============================] - 0s 36ms/step\n",
            "1/1 [==============================] - 0s 39ms/step\n",
            "1/1 [==============================] - 0s 42ms/step\n",
            "1/1 [==============================] - 0s 35ms/step\n",
            "1/1 [==============================] - 0s 35ms/step\n",
            "1/1 [==============================] - 0s 35ms/step\n",
            "1/1 [==============================] - 0s 36ms/step\n",
            "1/1 [==============================] - 0s 35ms/step\n",
            "1/1 [==============================] - 0s 36ms/step\n",
            "1/1 [==============================] - 0s 36ms/step\n",
            "1/1 [==============================] - 0s 36ms/step\n",
            "1/1 [==============================] - 0s 37ms/step\n",
            "1/1 [==============================] - 0s 45ms/step\n",
            "1/1 [==============================] - 0s 35ms/step\n",
            "1/1 [==============================] - 0s 35ms/step\n",
            "1/1 [==============================] - 0s 38ms/step\n",
            "1/1 [==============================] - 0s 38ms/step\n",
            "1/1 [==============================] - 0s 39ms/step\n",
            "role and values that is one of the challenge of the world components and innovation it is the cornerstone of personal including contributing and developing the\n"
          ]
        }
      ]
    }
  ]
}